{
 "cells": [
  {
   "cell_type": "code",
   "execution_count": 161,
   "metadata": {},
   "outputs": [],
   "source": [
    "import pandas as pd\n",
    "from Bio import SeqIO\n",
    "from Bio.Seq import Seq\n",
    "from Bio.SeqRecord import SeqRecord\n",
    "from Bio.SeqFeature import SeqFeature, FeatureLocation\n",
    "import glob\n",
    "import urllib\n",
    "import xml.etree.ElementTree as ET\n",
    "import os\n",
    "import os.path\n",
    "from Bio.Alphabet import generic_dna\n",
    "\n",
    "fastaList=list(SeqIO.parse(\"./All_Parts_iGEM.txt\", \"fasta\"))\n",
    "fastaDict={ele.id:ele for ele in fastaList}"
   ]
  },
  {
   "cell_type": "code",
   "execution_count": 162,
   "metadata": {},
   "outputs": [],
   "source": [
    "with open(\"./pSB1C3.gbk\",'r') as file_handle:\n",
    "    record_dict = SeqIO.to_dict(SeqIO.parse(file_handle, 'gb'))\n",
    "    pSB1C3 = record_dict[list(record_dict.keys())[0]]\n",
    "with open(\"./pSB1A2.gbk\",'r') as file_handle:\n",
    "    record_dict = SeqIO.to_dict(SeqIO.parse(file_handle, 'gb'))\n",
    "    pSB1A2 = record_dict[list(record_dict.keys())[0]]"
   ]
  },
  {
   "cell_type": "code",
   "execution_count": 163,
   "metadata": {},
   "outputs": [],
   "source": [
    "plates={}\n",
    "parts=[]\n",
    "for infile_loc in glob.glob(\"./Plate_Layouts/*.csv\"):\n",
    "    plateNum = infile_loc.split()[-2]\n",
    "    plate = pd.read_csv(infile_loc,encoding = \"ISO-8859-1\")\n",
    "    plateParts=plate[\"  Part \"].values.tolist()\n",
    "    parts.extend([ele.strip() for ele in plateParts])\n",
    "    plates[plateNum]=plateParts         \n",
    "parts = list(set(parts))"
   ]
  },
  {
   "cell_type": "code",
   "execution_count": 164,
   "metadata": {},
   "outputs": [],
   "source": [
    "strains=pd.read_csv(\"igem2019_strain_metadata.csv\",index_col=0)\n",
    "strains['accession']=strains['accession'].str.strip()\n",
    "\n",
    "measuredParts = {str(ele).strip() for ele in set(list(strains['accession']))}\n",
    "allParts={ele.split(\"BBa_\")[-1] for ele in parts}"
   ]
  },
  {
   "cell_type": "code",
   "execution_count": 165,
   "metadata": {
    "scrolled": true
   },
   "outputs": [
    {
     "name": "stdout",
     "output_type": "stream",
     "text": [
      "..............................................................................................................................................................................................................................................................................................................................................................................................................................................................."
     ]
    }
   ],
   "source": [
    "allPartsSeqs={}\n",
    "c=0\n",
    "for curPart in measuredParts&allParts:\n",
    "    print(\".\",end=\"\")\n",
    "    c+=1\n",
    "    igemURL = f'http://parts.igem.org/cgi/xml/part.cgi?part={curPart}'\n",
    "    tree = ET.parse(urllib.request.urlopen(igemURL))\n",
    "    root = tree.getroot()\n",
    "    for seq in root.iter('seq_data'):\n",
    "        #record = seq.text + gbkFile\n",
    "        sequence=seq.text\n",
    "        sequence=sequence.replace(\"\\n\", \"\")\n",
    "        sequence=Seq(sequence,generic_dna)\n",
    "\n",
    "    allPartsSeqs[curPart]=sequence"
   ]
  },
  {
   "cell_type": "code",
   "execution_count": 166,
   "metadata": {},
   "outputs": [],
   "source": [
    "notAnno=[]\n",
    "sequenceRecords=[]\n",
    "for strain in strains.index:\n",
    "    curPart = strains.loc[strain]['accession']\n",
    "    if curPart in allPartsSeqs.keys():\n",
    "        curBackbone=strains[strains['accession'] == curPart]['vector'].values[0]\n",
    "        if curBackbone == \"pSB1C3\" or curBackbone == \"pSB1A2\":\n",
    "            if curBackbone == \"pSB1C3\":\n",
    "                bb=pSB1C3\n",
    "            if curBackbone == \"pSB1A2\":\n",
    "                bb=pSB1A2\n",
    "\n",
    "            record = bb + allPartsSeqs[curPart].lower()\n",
    "            featLoc=FeatureLocation(len(bb),len(bb)+len(allPartsSeqs[curPart]),1)\n",
    "            record.features.append(SeqFeature(featLoc, type='BioBrick (accession)',qualifiers={\"label\": curPart}))\n",
    "            record.id = curPart\n",
    "            #BBnum=strains[strains['accession'] == curPart]['strain'].values\n",
    "            record.name = strain\n",
    "            sequenceRecords.append(record)\n",
    "        else:\n",
    "            notAnno.append((curPart,curBackbone))\n",
    "notAnno=pd.DataFrame(notAnno,columns=[\"accession\",\"backbone\"]).set_index('accession')"
   ]
  },
  {
   "cell_type": "code",
   "execution_count": 167,
   "metadata": {
    "scrolled": true
   },
   "outputs": [],
   "source": [
    "for curPlas in sequenceRecords:\n",
    "    SeqIO.write(curPlas,f'./reference_files/{curPlas.name}.gbk', 'gb')"
   ]
  },
  {
   "cell_type": "code",
   "execution_count": null,
   "metadata": {},
   "outputs": [],
   "source": []
  }
 ],
 "metadata": {
  "kernelspec": {
   "display_name": "Python 3",
   "language": "python",
   "name": "python3"
  },
  "language_info": {
   "codemirror_mode": {
    "name": "ipython",
    "version": 3
   },
   "file_extension": ".py",
   "mimetype": "text/x-python",
   "name": "python",
   "nbconvert_exporter": "python",
   "pygments_lexer": "ipython3",
   "version": "3.7.4"
  },
  "toc": {
   "base_numbering": 1,
   "nav_menu": {},
   "number_sections": true,
   "sideBar": true,
   "skip_h1_title": false,
   "title_cell": "Table of Contents",
   "title_sidebar": "Contents",
   "toc_cell": false,
   "toc_position": {},
   "toc_section_display": true,
   "toc_window_display": false
  }
 },
 "nbformat": 4,
 "nbformat_minor": 2
}
